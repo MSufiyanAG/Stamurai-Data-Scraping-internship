{
 "cells": [
  {
   "cell_type": "code",
   "execution_count": null,
   "metadata": {},
   "outputs": [],
   "source": [
    "import math\n",
    "import pdfkit\n",
    "import pandas as pd\n",
    "import re\n",
    "from selenium import webdriver\n",
    "from selenium.webdriver.common.keys import Keys\n",
    "from selenium.webdriver.common.by import By\n",
    "from selenium.webdriver.support.ui import Select\n",
    "import time\n",
    "import numpy as np\n",
    "from selenium.webdriver.support.ui import WebDriverWait\n",
    "from selenium.webdriver.support import expected_conditions as EC"
   ]
  },
  {
   "cell_type": "code",
   "execution_count": null,
   "metadata": {},
   "outputs": [],
   "source": [
    "browser=webdriver.Chrome(\"chromedriver.exe\")\n",
    "browser.get(\"https://www.pwcs.edu/index\")\n",
    "browser.maximize_window()"
   ]
  },
  {
   "cell_type": "code",
   "execution_count": null,
   "metadata": {},
   "outputs": [],
   "source": [
    "browser.find_element(By.XPATH  , '//*[@id=\"selectSchool\"]/a').click()"
   ]
  },
  {
   "cell_type": "code",
   "execution_count": null,
   "metadata": {},
   "outputs": [],
   "source": [
    "listElement = browser.find_element_by_class_name(\"schoolList\")\n",
    "all_schools=listElement.find_elements_by_class_name(\"w-25\")\n",
    "middle_school=False\n",
    "school_links=[]\n",
    "school_names=[]\n",
    "for el in all_schools:\n",
    "    col = el.find_elements_by_tag_name('li')\n",
    "    for cl in col:\n",
    "        try:\n",
    "            Link = cl.find_element_by_tag_name('a').get_attribute('href')\n",
    "            Name=  cl.find_element_by_tag_name('a').get_attribute('innerText')\n",
    "            if(middle_school==True):\n",
    "                #print(Name)\n",
    "                school_links.append(Link)\n",
    "                school_names.append(Name)\n",
    "        except:\n",
    "            School_type=cl.find_element_by_tag_name('h2').get_attribute('innerText')\n",
    "            #print(School_type)\n",
    "            if(School_type == 'Middle School' or School_type == 'MIDDLE SCHOOL'):\n",
    "                middle_school=True\n",
    "            else:\n",
    "                middle_school=False               \n",
    "\n",
    "browser.close()    "
   ]
  },
  {
   "cell_type": "code",
   "execution_count": null,
   "metadata": {},
   "outputs": [],
   "source": [
    "school_names"
   ]
  },
  {
   "cell_type": "code",
   "execution_count": null,
   "metadata": {},
   "outputs": [],
   "source": [
    "directory=[]"
   ]
  },
  {
   "cell_type": "code",
   "execution_count": null,
   "metadata": {},
   "outputs": [],
   "source": [
    "for sc in school_links:\n",
    "    sc=sc+'directory/index'\n",
    "    directory.append(sc)        "
   ]
  },
  {
   "cell_type": "code",
   "execution_count": null,
   "metadata": {
    "scrolled": true
   },
   "outputs": [],
   "source": [
    "directory"
   ]
  },
  {
   "cell_type": "code",
   "execution_count": null,
   "metadata": {},
   "outputs": [],
   "source": [
    "list_of_schools= pd.DataFrame(columns =['Name' , 'School Link', 'Staff List Link'])\n",
    "list_of_schools['Name'] = school_names\n",
    "list_of_schools['School Link'] = school_links\n",
    "list_of_schools['Staff List Link'] = directory"
   ]
  },
  {
   "cell_type": "code",
   "execution_count": null,
   "metadata": {},
   "outputs": [],
   "source": [
    "for j in range(0,len(list_of_schools['Staff List Link'])):\n",
    "    #time.sleep(2)\n",
    "    browser=webdriver.Chrome(\"chromedriver.exe\")\n",
    "    browser.get(list_of_schools['Staff List Link'][j])\n",
    "    browser.maximize_window()\n",
    "    \n",
    "    staff_block=browser.find_elements_by_class_name('panel-body')\n",
    "    db= pd.DataFrame(columns =['Name' , 'Position', 'Email'])\n",
    "    name=[]\n",
    "    position=[]\n",
    "    email=[]\n",
    "    for a in staff_block:\n",
    "        try:\n",
    "            name.append(a.find_element_by_class_name('panel-title').get_attribute('innerText'))\n",
    "        except:\n",
    "            name.append('Missing')\n",
    "        try:\n",
    "            position.append(a.find_element_by_class_name('depts').get_attribute('innerText'))\n",
    "        except:\n",
    "            position.append('Missing')\n",
    "        try:\n",
    "            email.append(a.find_element_by_class_name('email').get_attribute('innerText'))\n",
    "        except:\n",
    "            email.append('Missing')\n",
    "    db['Name'] = name\n",
    "    db['Position'] = position\n",
    "    db['Email'] = email\n",
    "    namei=list_of_schools['Name'][j]+'.csv'\n",
    "    #print(namei)\n",
    "    db.to_csv(namei)\n",
    "    f = open(list_of_schools['Name'][j]+'.html','w')\n",
    "    a = db.to_html()\n",
    "    f.write(a)\n",
    "    f.close()\n",
    "    browser.close()\n",
    "    "
   ]
  },
  {
   "cell_type": "code",
   "execution_count": null,
   "metadata": {},
   "outputs": [],
   "source": [
    "list_of_schools.to_csv('Prince_William_County_Public_Schools.csv')\n",
    "f = open('Prince_William_County_Public_Schools.html','w')\n",
    "a = list_of_schools.to_html()\n",
    "f.write(a)\n",
    "f.close()"
   ]
  },
  {
   "cell_type": "code",
   "execution_count": null,
   "metadata": {},
   "outputs": [],
   "source": []
  }
 ],
 "metadata": {
  "kernelspec": {
   "display_name": "Python 3",
   "language": "python",
   "name": "python3"
  },
  "language_info": {
   "codemirror_mode": {
    "name": "ipython",
    "version": 3
   },
   "file_extension": ".py",
   "mimetype": "text/x-python",
   "name": "python",
   "nbconvert_exporter": "python",
   "pygments_lexer": "ipython3",
   "version": "3.7.6"
  }
 },
 "nbformat": 4,
 "nbformat_minor": 4
}
