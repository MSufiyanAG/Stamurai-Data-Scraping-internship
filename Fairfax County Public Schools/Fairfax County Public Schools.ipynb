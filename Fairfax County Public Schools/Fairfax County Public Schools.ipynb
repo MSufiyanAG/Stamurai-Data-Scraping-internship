{
 "cells": [
  {
   "cell_type": "code",
   "execution_count": null,
   "metadata": {},
   "outputs": [],
   "source": [
    "import math\n",
    "import pdfkit\n",
    "import pandas as pd\n",
    "import re\n",
    "from selenium import webdriver\n",
    "from selenium.webdriver.common.keys import Keys\n",
    "from selenium.webdriver.common.by import By\n",
    "from selenium.webdriver.support.ui import Select\n",
    "import time\n",
    "import numpy as np\n",
    "from selenium.webdriver.support.ui import WebDriverWait\n",
    "from selenium.webdriver.support import expected_conditions as EC"
   ]
  },
  {
   "cell_type": "code",
   "execution_count": null,
   "metadata": {},
   "outputs": [],
   "source": [
    "browser=webdriver.Chrome(\"chromedriver.exe\")\n",
    "browser.get(\"https://www.fcps.edu/\")\n",
    "browser.maximize_window()"
   ]
  },
  {
   "cell_type": "code",
   "execution_count": null,
   "metadata": {},
   "outputs": [],
   "source": [
    "#browser.find_element_by_xpath('//a[contains(@href,\"/schools-centers\")]').click()\n",
    "link=browser.find_element(By.XPATH  , '//*[@id=\"mm-0\"]/div/div[2]/header/div/ul/li[4]/a').get_attribute(\"href\")\n",
    "browser.get(link)"
   ]
  },
  {
   "cell_type": "code",
   "execution_count": null,
   "metadata": {},
   "outputs": [],
   "source": [
    "browser.find_element_by_id('edit-items-per-page').click()\n",
    "browser.find_element_by_xpath('//*[@id=\"edit-items-per-page\"]/option[3]').click()"
   ]
  },
  {
   "cell_type": "code",
   "execution_count": null,
   "metadata": {},
   "outputs": [],
   "source": [
    "browser.find_element_by_id('block-school-center-school-type').click()"
   ]
  },
  {
   "cell_type": "code",
   "execution_count": null,
   "metadata": {},
   "outputs": [],
   "source": [
    "#browser.find_element_by_id('school-center-school-type-74').click()\n",
    "browser.find_element_by_id('school-center-school-type-77').click()\n",
    "#browser.find_element_by_id('school-center-school-type-75').click()"
   ]
  },
  {
   "cell_type": "code",
   "execution_count": null,
   "metadata": {},
   "outputs": [],
   "source": [
    "records=browser.find_element_by_xpath('//*[@id=\"block-school-center-school-type\"]/div/div/ul/li[1]/label/span[2]').get_attribute('innerText')"
   ]
  },
  {
   "cell_type": "code",
   "execution_count": null,
   "metadata": {},
   "outputs": [],
   "source": [
    "browser.find_element_by_xpath('//*[@id=\"main\"]/div/div[2]/div/div/div[2]/div[2]/div[2]/div/a').click()"
   ]
  },
  {
   "cell_type": "code",
   "execution_count": null,
   "metadata": {},
   "outputs": [],
   "source": [
    "def scroll_down(elem, num,driver):\n",
    "    for _ in range(num):\n",
    "        time.sleep(0.5)\n",
    "        try:\n",
    "            driver.find_element_by_class_name('pager')\n",
    "            return\n",
    "        except:\n",
    "            elem.send_keys(Keys.PAGE_DOWN)"
   ]
  },
  {
   "cell_type": "code",
   "execution_count": null,
   "metadata": {},
   "outputs": [],
   "source": [
    "def scroll_again(driver):\n",
    "    SCROLL_PAUSE_TIME = 0.1\n",
    "    elem = driver.find_element_by_tag_name(\"body\")\n",
    "    prev_height = elem.get_attribute(\"scrollHeight\")\n",
    "\n",
    "\n",
    "    for i in range(0, 100):\n",
    "\n",
    "        scroll_down(elem,50,driver)\n",
    "        print(\"waiting\")\n",
    "\n",
    "        time.sleep(SCROLL_PAUSE_TIME)\n",
    "\n",
    "        \n",
    "        if elem.get_attribute(\"scrollHeight\") == prev_height and i > 0:\n",
    "            break\n",
    "        prev_height = elem.get_attribute(\"scrollHeight\")"
   ]
  },
  {
   "cell_type": "code",
   "execution_count": null,
   "metadata": {},
   "outputs": [],
   "source": [
    "pages_total=math.ceil(int(records[1:len(records)-1])/50)\n",
    "pages_total"
   ]
  },
  {
   "cell_type": "code",
   "execution_count": null,
   "metadata": {},
   "outputs": [],
   "source": [
    "p=0\n",
    "l=[]\n",
    "addr=[]\n",
    "email=[]\n",
    "pname=[]\n",
    "while p<pages_total:\n",
    "    scroll_again(browser)\n",
    "    schools = browser.find_elements_by_class_name(\"view__row\")\n",
    "    for i in schools:\n",
    "    #l.append(a.text.split('\\n')[0])\n",
    "        blocks=i.find_elements_by_class_name(\"node__section\")\n",
    "        c=0\n",
    "        for q in blocks:\n",
    "            if(c<3):\n",
    "                if(c==0):\n",
    "                    l.append(q.find_element_by_tag_name('a').get_attribute('href'))\n",
    "                elif(c==1):\n",
    "                    addr.append(q.find_element_by_tag_name('a').get_attribute('href'))\n",
    "                else:\n",
    "                    email.append(q.find_element_by_tag_name('a').get_attribute('href').split(\":\")[1])\n",
    "                    pname.append(q.find_element_by_tag_name('a').get_attribute('innerText').split(\",\")[0])\n",
    "                    #print(q.find_element_by_tag_name('a').get_attribute('innerText'))\n",
    "                c=c+1\n",
    "            else:\n",
    "                break\n",
    "        \n",
    "    p=p+1\n",
    "    try:\n",
    "        browser.find_element_by_class_name(\"pager__item--next\").click()\n",
    "    except:\n",
    "        print('No')\n",
    "    "
   ]
  },
  {
   "cell_type": "code",
   "execution_count": null,
   "metadata": {},
   "outputs": [],
   "source": [
    "pname"
   ]
  },
  {
   "cell_type": "code",
   "execution_count": null,
   "metadata": {},
   "outputs": [],
   "source": [
    "l[0].split(\"/\").pop(-1)"
   ]
  },
  {
   "cell_type": "code",
   "execution_count": null,
   "metadata": {},
   "outputs": [],
   "source": [
    "browser.close()"
   ]
  },
  {
   "cell_type": "code",
   "execution_count": null,
   "metadata": {},
   "outputs": [],
   "source": [
    "school_name=[]\n",
    "staff_links=[]"
   ]
  },
  {
   "cell_type": "code",
   "execution_count": null,
   "metadata": {},
   "outputs": [],
   "source": [
    "for i in l:\n",
    "    browser=webdriver.Chrome(\"chromedriver.exe\")\n",
    "    browser.get(i)\n",
    "    school_name.append(i.split(\"/\").pop(-1))\n",
    "    #staff_links.append(browser.find_element_by_xpath('//*[@id=\"main\"]/div/article/div/div[2]/div/div[1]/a[4]').get_attribute('href'))\n",
    "    staff_links.append(browser.find_element_by_xpath ('//a[contains( text( ), \"Staff Directory\")]').get_attribute('href'))\n",
    "    #print(staff_links[0])\n",
    "    browser.close()"
   ]
  },
  {
   "cell_type": "code",
   "execution_count": null,
   "metadata": {},
   "outputs": [],
   "source": [
    "list_of_schools= pd.DataFrame(columns =['Name' , 'School Link', 'Staff List Link','Principal Name','Principal email','Address'])\n",
    "list_of_schools['Name']=school_name\n",
    "list_of_schools['School Link']=l\n",
    "list_of_schools['Staff List Link']=staff_links\n",
    "list_of_schools['Principal Name']=pname\n",
    "list_of_schools['Principal email']=email\n",
    "list_of_schools['Address']=addr"
   ]
  },
  {
   "cell_type": "code",
   "execution_count": null,
   "metadata": {},
   "outputs": [],
   "source": [
    "for j in range(0,len(l)):\n",
    "    #time.sleep(2)\n",
    "    job=webdriver.Chrome(\"chromedriver.exe\")\n",
    "    job.get(list_of_schools['Staff List Link'][j])\n",
    "    job.maximize_window()\n",
    "    list_names=int(job.find_element_by_xpath('//h2[contains( text( ), \"Results\")]').text.split().pop(-1))\n",
    "    staff_pages_total=math.ceil(list_names/50)\n",
    "    #staff_pages_total\n",
    "    job.find_element_by_id('edit-items-per-page').click()\n",
    "    job.find_element_by_xpath('//*[@id=\"edit-items-per-page\"]/option[3]').click()\n",
    "    p=0\n",
    "    db= pd.DataFrame(columns =['Name' , 'Position'])\n",
    "    N=[]\n",
    "    P=[]\n",
    "    while p<staff_pages_total:\n",
    "        scroll_again(job)\n",
    "        schools = job.find_elements_by_tag_name(\"tr\")\n",
    "        trt=0\n",
    "        for i in schools:\n",
    "        #l.append(a.text.split('\\n')[0])\n",
    "            if(trt==0):\n",
    "                trt=trt+1\n",
    "                continue\n",
    "            nama=i.find_element_by_class_name(\"views-field-field-last-name\").get_attribute(\"innerText\")\n",
    "            print(nama)\n",
    "            N.append(nama.split(',')[1]+' '+nama.split(',')[0])\n",
    "            P.append(i.find_element_by_class_name(\"views-field-field-staff-title\").get_attribute(\"innerText\"))\n",
    "\n",
    "        p=p+1\n",
    "        try:\n",
    "            job.find_element_by_class_name(\"pager__item--next\").click()\n",
    "        except:\n",
    "            print('No')\n",
    "    db['Name']=N\n",
    "    db['Position']=P\n",
    "    namei=list_of_schools['Name'][j]+'.csv'\n",
    "    #print(namei)\n",
    "    db.to_csv(namei)\n",
    "    f = open(list_of_schools['Name'][j]+'.html','w')\n",
    "    a = db.to_html()\n",
    "    f.write(a)\n",
    "    f.close()\n",
    "    #time.sleep(1)\n",
    "    job.close()"
   ]
  },
  {
   "cell_type": "code",
   "execution_count": null,
   "metadata": {},
   "outputs": [],
   "source": [
    "len(P)"
   ]
  },
  {
   "cell_type": "code",
   "execution_count": null,
   "metadata": {},
   "outputs": [],
   "source": [
    "list_of_schools.to_csv('Fairfax_County_Public_Schools.csv')\n",
    "f = open('Fairfax_County_Public_Schools.html','w')\n",
    "a = list_of_schools.to_html()\n",
    "f.write(a)\n",
    "f.close()"
   ]
  },
  {
   "cell_type": "code",
   "execution_count": null,
   "metadata": {},
   "outputs": [],
   "source": [
    "list_of_schools"
   ]
  },
  {
   "cell_type": "code",
   "execution_count": null,
   "metadata": {},
   "outputs": [],
   "source": []
  }
 ],
 "metadata": {
  "kernelspec": {
   "display_name": "Python 3",
   "language": "python",
   "name": "python3"
  },
  "language_info": {
   "codemirror_mode": {
    "name": "ipython",
    "version": 3
   },
   "file_extension": ".py",
   "mimetype": "text/x-python",
   "name": "python",
   "nbconvert_exporter": "python",
   "pygments_lexer": "ipython3",
   "version": "3.7.6"
  }
 },
 "nbformat": 4,
 "nbformat_minor": 4
}
