{
 "cells": [
  {
   "cell_type": "code",
   "execution_count": 1,
   "metadata": {},
   "outputs": [],
   "source": [
    "import math\n",
    "import pdfkit\n",
    "import pandas as pd\n",
    "import time\n",
    "import numpy as np\n",
    "import re\n",
    "from selenium import webdriver\n",
    "from selenium.webdriver.common.keys import Keys\n",
    "from selenium.webdriver.common.by import By\n",
    "from selenium.webdriver.support.ui import Select\n",
    "from selenium.webdriver.common.action_chains import ActionChains\n",
    "from selenium.webdriver.support.ui import WebDriverWait\n",
    "from selenium.webdriver.support import expected_conditions as EC"
   ]
  },
  {
   "cell_type": "code",
   "execution_count": 2,
   "metadata": {},
   "outputs": [],
   "source": [
    "browser=webdriver.Chrome(\"chromedriver.exe\")\n",
    "browser.get(\"https://homesteadmiddle.com/staff-directory/\")\n",
    "browser.maximize_window()"
   ]
  },
  {
   "cell_type": "code",
   "execution_count": 3,
   "metadata": {},
   "outputs": [],
   "source": [
    "name=[]\n",
    "department=[]\n",
    "position=[]\n",
    "email=[]"
   ]
  },
  {
   "cell_type": "code",
   "execution_count": 4,
   "metadata": {},
   "outputs": [],
   "source": [
    "table=browser.find_element_by_tag_name('tbody')\n",
    "rows=browser.find_elements_by_tag_name('tr')\n",
    "for r in rows:\n",
    "    i=0\n",
    "    col=r.find_elements_by_tag_name('td')\n",
    "    for c in col:\n",
    "        if(i==0):\n",
    "            try:\n",
    "                name.append(c.text.split(',')[1]+' '+c.text.split(',')[0])\n",
    "            except:\n",
    "                print('NA')\n",
    "                break\n",
    "        elif(i==1):\n",
    "            try:\n",
    "                department.append(c.text)\n",
    "            except:\n",
    "                department.append('NA')\n",
    "        elif(i==2):\n",
    "            try:\n",
    "                position.append(c.text)\n",
    "            except:\n",
    "                position.append('NA')\n",
    "        elif(i==3):\n",
    "            try:\n",
    "                email.append(c.text)\n",
    "            except:\n",
    "                email.append('NA')\n",
    "        i=i+1"
   ]
  },
  {
   "cell_type": "code",
   "execution_count": 9,
   "metadata": {},
   "outputs": [],
   "source": [
    "db= pd.DataFrame(columns =['Name' , 'Email', 'Position','Department'])\n",
    "db['Name']=name\n",
    "db['Position']=position\n",
    "db['Email']=email\n",
    "db['Department']=department"
   ]
  },
  {
   "cell_type": "code",
   "execution_count": 11,
   "metadata": {},
   "outputs": [],
   "source": [
    "browser.close()"
   ]
  },
  {
   "cell_type": "code",
   "execution_count": 12,
   "metadata": {},
   "outputs": [],
   "source": [
    "namei='Homestead Middle School'+'.csv'\n",
    "#print(namei)\n",
    "db.to_csv(namei)\n",
    "f = open('Homestead Middle School'+'.html','w')\n",
    "a = db.to_html()\n",
    "f.write(a)\n",
    "f.close()"
   ]
  },
  {
   "cell_type": "code",
   "execution_count": null,
   "metadata": {},
   "outputs": [],
   "source": []
  }
 ],
 "metadata": {
  "kernelspec": {
   "display_name": "Python 3",
   "language": "python",
   "name": "python3"
  },
  "language_info": {
   "codemirror_mode": {
    "name": "ipython",
    "version": 3
   },
   "file_extension": ".py",
   "mimetype": "text/x-python",
   "name": "python",
   "nbconvert_exporter": "python",
   "pygments_lexer": "ipython3",
   "version": "3.7.6"
  }
 },
 "nbformat": 4,
 "nbformat_minor": 4
}
