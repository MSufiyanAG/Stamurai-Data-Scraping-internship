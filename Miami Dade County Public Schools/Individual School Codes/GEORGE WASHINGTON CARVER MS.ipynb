{
 "cells": [
  {
   "cell_type": "code",
   "execution_count": 1,
   "metadata": {},
   "outputs": [],
   "source": [
    "import math\n",
    "import pdfkit\n",
    "import pandas as pd\n",
    "import time\n",
    "import numpy as np\n",
    "import re\n",
    "from selenium import webdriver\n",
    "from selenium.webdriver.common.keys import Keys\n",
    "from selenium.webdriver.common.by import By\n",
    "from selenium.webdriver.support.ui import Select\n",
    "from selenium.webdriver.common.action_chains import ActionChains\n",
    "from selenium.webdriver.support.ui import WebDriverWait\n",
    "from selenium.webdriver.support import expected_conditions as EC"
   ]
  },
  {
   "cell_type": "code",
   "execution_count": 2,
   "metadata": {},
   "outputs": [],
   "source": [
    "browser=webdriver.Chrome(\"chromedriver.exe\")\n",
    "browser.get(\"https://gwcmiddleschool.net/faculty-and-staff-directory/\")\n",
    "browser.maximize_window()"
   ]
  },
  {
   "cell_type": "code",
   "execution_count": 36,
   "metadata": {},
   "outputs": [],
   "source": [
    "name=[]\n",
    "position=[]\n",
    "email=[]"
   ]
  },
  {
   "cell_type": "code",
   "execution_count": 37,
   "metadata": {},
   "outputs": [],
   "source": [
    "table=browser.find_element_by_class_name('entry-content')\n",
    "subname=table.find_elements_by_tag_name('h4')\n",
    "subs=table.find_elements_by_tag_name('figure')\n",
    "for (f,g) in zip(subs,subname):\n",
    "    row=f.find_elements_by_tag_name('tr')\n",
    "    for r in row:\n",
    "        col=r.find_elements_by_tag_name('td')\n",
    "        i=0\n",
    "        for c in col:\n",
    "            if(i==0):\n",
    "                position.append(g.text)\n",
    "                name.append(c.text.split(',')[1]+' '+c.text.split(',')[0])\n",
    "            if(i==1):\n",
    "                email.append(c.text)\n",
    "            i=i+1"
   ]
  },
  {
   "cell_type": "code",
   "execution_count": 38,
   "metadata": {},
   "outputs": [],
   "source": [
    "db= pd.DataFrame(columns =['Name' , 'Email', 'Position'])\n",
    "db['Name']=name\n",
    "db['Position']=position\n",
    "db['Email']=email"
   ]
  },
  {
   "cell_type": "code",
   "execution_count": 39,
   "metadata": {},
   "outputs": [],
   "source": [
    "browser.close()"
   ]
  },
  {
   "cell_type": "code",
   "execution_count": 40,
   "metadata": {},
   "outputs": [],
   "source": [
    "namei='GEORGE WASHINGTON CARVER MS'+'.csv'\n",
    "#print(namei)\n",
    "db.to_csv(namei)\n",
    "f = open('GEORGE WASHINGTON CARVER MS'+'.html','w')\n",
    "a = db.to_html()\n",
    "f.write(a)\n",
    "f.close()"
   ]
  },
  {
   "cell_type": "code",
   "execution_count": null,
   "metadata": {},
   "outputs": [],
   "source": []
  }
 ],
 "metadata": {
  "kernelspec": {
   "display_name": "Python 3",
   "language": "python",
   "name": "python3"
  },
  "language_info": {
   "codemirror_mode": {
    "name": "ipython",
    "version": 3
   },
   "file_extension": ".py",
   "mimetype": "text/x-python",
   "name": "python",
   "nbconvert_exporter": "python",
   "pygments_lexer": "ipython3",
   "version": "3.7.6"
  }
 },
 "nbformat": 4,
 "nbformat_minor": 4
}
