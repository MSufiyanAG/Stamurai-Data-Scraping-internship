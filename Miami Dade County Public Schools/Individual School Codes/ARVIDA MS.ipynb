{
 "cells": [
  {
   "cell_type": "code",
   "execution_count": 1,
   "metadata": {},
   "outputs": [],
   "source": [
    "import math\n",
    "import pdfkit\n",
    "import pandas as pd\n",
    "import time\n",
    "import numpy as np\n",
    "import re\n",
    "from selenium import webdriver\n",
    "from selenium.webdriver.common.keys import Keys\n",
    "from selenium.webdriver.common.by import By\n",
    "from selenium.webdriver.support.ui import Select\n",
    "from selenium.webdriver.common.action_chains import ActionChains\n",
    "from selenium.webdriver.support.ui import WebDriverWait\n",
    "from selenium.webdriver.support import expected_conditions as EC"
   ]
  },
  {
   "cell_type": "code",
   "execution_count": 2,
   "metadata": {},
   "outputs": [],
   "source": [
    "browser=webdriver.Chrome(\"chromedriver.exe\")\n",
    "browser.get(\"https://arvidamiddle.net/staff-directory-2/\")\n",
    "browser.maximize_window()"
   ]
  },
  {
   "cell_type": "code",
   "execution_count": 21,
   "metadata": {},
   "outputs": [],
   "source": [
    "name=[]\n",
    "position=[]"
   ]
  },
  {
   "cell_type": "code",
   "execution_count": 22,
   "metadata": {},
   "outputs": [],
   "source": [
    "box=browser.find_element_by_xpath('//*[@id=\"circle_contact\"]/div[1]')\n",
    "small_box=box.find_elements_by_class_name('staff_contact ')\n",
    "for i in small_box:\n",
    "    namei=i.find_element_by_class_name('staff_top_info').get_attribute('innerText').split('\\n')[0]\n",
    "    name.append(namei.split(',')[1]+' '+namei.split(',')[0])\n",
    "    position.append(i.find_element_by_class_name('contact_content').text.split('\\n')[0])"
   ]
  },
  {
   "cell_type": "code",
   "execution_count": 23,
   "metadata": {},
   "outputs": [],
   "source": [
    "db= pd.DataFrame(columns =['Name' , 'Position'])\n",
    "db['Name']=name\n",
    "db['Position']=position"
   ]
  },
  {
   "cell_type": "code",
   "execution_count": 24,
   "metadata": {},
   "outputs": [],
   "source": [
    "browser.close()"
   ]
  },
  {
   "cell_type": "code",
   "execution_count": 25,
   "metadata": {},
   "outputs": [],
   "source": [
    "namei='ARVIDA MS'+'.csv'\n",
    "#print(namei)\n",
    "db.to_csv(namei)\n",
    "f = open('ARVIDA MS'+'.html','w')\n",
    "a = db.to_html()\n",
    "f.write(a)\n",
    "f.close()"
   ]
  },
  {
   "cell_type": "code",
   "execution_count": null,
   "metadata": {},
   "outputs": [],
   "source": []
  }
 ],
 "metadata": {
  "kernelspec": {
   "display_name": "Python 3",
   "language": "python",
   "name": "python3"
  },
  "language_info": {
   "codemirror_mode": {
    "name": "ipython",
    "version": 3
   },
   "file_extension": ".py",
   "mimetype": "text/x-python",
   "name": "python",
   "nbconvert_exporter": "python",
   "pygments_lexer": "ipython3",
   "version": "3.7.6"
  }
 },
 "nbformat": 4,
 "nbformat_minor": 4
}
