{
 "cells": [
  {
   "cell_type": "code",
   "execution_count": null,
   "metadata": {},
   "outputs": [],
   "source": [
    "import math\n",
    "import pdfkit\n",
    "import pandas as pd\n",
    "import re\n",
    "from selenium import webdriver\n",
    "from selenium.webdriver.common.keys import Keys\n",
    "from selenium.webdriver.common.by import By\n",
    "from selenium.webdriver.support.ui import Select\n",
    "import time\n",
    "import numpy as np\n",
    "from selenium.webdriver.support.ui import WebDriverWait\n",
    "from selenium.webdriver.support import expected_conditions as EC\n",
    "import requests\n"
   ]
  },
  {
   "cell_type": "code",
   "execution_count": null,
   "metadata": {},
   "outputs": [],
   "source": [
    "browser=webdriver.Chrome(\"chromedriver.exe\")\n",
    "browser.get(\"https://www3.dadeschools.net/home\")\n",
    "browser.maximize_window()"
   ]
  },
  {
   "cell_type": "code",
   "execution_count": null,
   "metadata": {},
   "outputs": [],
   "source": [
    "time.sleep(1)\n",
    "buttons=browser.find_element(By.XPATH  , '//a[contains( text( ), \"Schools\")]')\n",
    "buttons.click()\n",
    "buttons.find_element(By.XPATH  , '//a[contains( text( ), \"School Directory\")]').click()"
   ]
  },
  {
   "cell_type": "code",
   "execution_count": null,
   "metadata": {},
   "outputs": [],
   "source": [
    "browser.execute_script(\"window.scrollBy(0,200)\",\"\")\n",
    "browser.find_element(By.XPATH  , '//button[contains( text( ), \"Middle Schools\")]').click()"
   ]
  },
  {
   "cell_type": "code",
   "execution_count": null,
   "metadata": {},
   "outputs": [],
   "source": [
    "browser.find_element_by_xpath('//option[contains(text(),\" All items \")]').click()"
   ]
  },
  {
   "cell_type": "code",
   "execution_count": null,
   "metadata": {},
   "outputs": [],
   "source": [
    "LOC=[]\n",
    "email=[]\n",
    "school_name=[]\n",
    "telephone=[]\n",
    "administrator=[]\n",
    "address=[]\n",
    "School_reference=[]"
   ]
  },
  {
   "cell_type": "code",
   "execution_count": null,
   "metadata": {},
   "outputs": [],
   "source": [
    "try:\n",
    "    table=browser.find_element_by_id('print-table')\n",
    "    records=table.find_elements_by_tag_name('tr')\n",
    "    for r in records:\n",
    "        #print('in r')\n",
    "        cols = r.find_elements_by_tag_name('td')\n",
    "        i=0\n",
    "        for c in cols:\n",
    "            #print(i,c.text)\n",
    "            if(i==0):\n",
    "                LOC.append(c.find_element_by_tag_name('a').get_attribute('innerText').split(' ')[0])\n",
    "                email.append(c.find_element_by_tag_name('a').get_attribute('pathname'))\n",
    "                #print(i)\n",
    "            elif(i==1):\n",
    "                school_name.append(c.text.split('\\n')[0])\n",
    "                address.append(c.text.split('\\n')[1]+c.text.split('\\n')[2])\n",
    "                School_reference.append(c.find_element_by_tag_name('a').get_attribute('href'))\n",
    "                #print(i)\n",
    "            elif(i==2):\n",
    "                telephone.append(c.text)\n",
    "                #print(i)\n",
    "            elif(i==3):\n",
    "                administrator.append(c.text) \n",
    "                #print(i)\n",
    "            i=i+1\n",
    "                \n",
    "except:\n",
    "    print('out')"
   ]
  },
  {
   "cell_type": "code",
   "execution_count": null,
   "metadata": {},
   "outputs": [],
   "source": [
    "len(School_reference)"
   ]
  },
  {
   "cell_type": "code",
   "execution_count": null,
   "metadata": {},
   "outputs": [],
   "source": [
    "browser.close()"
   ]
  },
  {
   "cell_type": "code",
   "execution_count": null,
   "metadata": {},
   "outputs": [],
   "source": [
    "school_website=[]"
   ]
  },
  {
   "cell_type": "code",
   "execution_count": null,
   "metadata": {},
   "outputs": [],
   "source": [
    "for link in School_reference:\n",
    "    browser=webdriver.Chrome(\"chromedriver.exe\")\n",
    "    browser.get(link)\n",
    "    browser.maximize_window()\n",
    "    time.sleep(5)\n",
    "    try:\n",
    "        browser.find_element_by_xpath('//*[@id=\"customAlert\"]/div/div[3]/button').click()\n",
    "        #//*[@id=\"customAlert\"]/div/div[3]/button\n",
    "    except:\n",
    "        print('i')\n",
    "    school_website.append(browser.find_element_by_xpath('//a[contains( text( ), \"View school website\")]').get_attribute('href'))\n",
    "    browser.close()\n",
    "    "
   ]
  },
  {
   "cell_type": "code",
   "execution_count": null,
   "metadata": {},
   "outputs": [],
   "source": [
    "school_website"
   ]
  },
  {
   "cell_type": "code",
   "execution_count": null,
   "metadata": {},
   "outputs": [],
   "source": [
    "exact_links=[]"
   ]
  },
  {
   "cell_type": "code",
   "execution_count": null,
   "metadata": {},
   "outputs": [],
   "source": [
    "for a in school_website:\n",
    "    browser=webdriver.Chrome(\"chromedriver.exe\")\n",
    "    browser.get(a)\n",
    "    browser.maximize_window()\n",
    "    try:\n",
    "        time.sleep(2)\n",
    "        exact_links.append(browser.find_element_by_xpath('/html/body/div/main/div/div[2]/a').get_attribute('href'))\n",
    "    except:\n",
    "        exact_links.append(a)\n",
    "    browser.close()"
   ]
  },
  {
   "cell_type": "code",
   "execution_count": null,
   "metadata": {},
   "outputs": [],
   "source": [
    "exact_links"
   ]
  },
  {
   "cell_type": "code",
   "execution_count": null,
   "metadata": {},
   "outputs": [],
   "source": [
    "staff_link=[]"
   ]
  },
  {
   "cell_type": "code",
   "execution_count": null,
   "metadata": {},
   "outputs": [],
   "source": [
    "for j in exact_links:\n",
    "    if('dadeschools' not in j):\n",
    "        browser=webdriver.Chrome(\"chromedriver.exe\")\n",
    "        browser.get(j)\n",
    "        browser.maximize_window()\n",
    "        try:\n",
    "            staff_link.append(j+browser.find_element_by_xpath('//a[contains( text( ), \"Staff\")]').get_attribute('pathname'))\n",
    "        except:\n",
    "            staff_link.append(-1)\n",
    "        browser.close()\n",
    "    else:\n",
    "        staff_link.append(j)"
   ]
  },
  {
   "cell_type": "code",
   "execution_count": null,
   "metadata": {},
   "outputs": [],
   "source": [
    "len(staff_link)"
   ]
  },
  {
   "cell_type": "code",
   "execution_count": null,
   "metadata": {},
   "outputs": [],
   "source": [
    "staff_link"
   ]
  },
  {
   "cell_type": "code",
   "execution_count": null,
   "metadata": {},
   "outputs": [],
   "source": [
    "List_of_schools = pd.DataFrame(columns =['LOC','Name', 'Contact','Administrator','Administrator Email','Address','School Link', 'Staff Link'])\n",
    "List_of_schools['LOC'] = LOC\n",
    "List_of_schools['Name'] = school_name\n",
    "List_of_schools['Contact'] = telephone\n",
    "List_of_schools['Administrator'] = administrator\n",
    "List_of_schools['Administrator Email'] = email\n",
    "List_of_schools['Address'] = address\n",
    "List_of_schools['School Link'] = exact_links\n",
    "List_of_schools['Staff Link'] = staff_link"
   ]
  },
  {
   "cell_type": "code",
   "execution_count": null,
   "metadata": {
    "scrolled": true
   },
   "outputs": [],
   "source": [
    "unique = List_of_schools[List_of_schools['Staff Link'] == -1]\n",
    "unique"
   ]
  },
  {
   "cell_type": "code",
   "execution_count": null,
   "metadata": {
    "scrolled": false
   },
   "outputs": [],
   "source": [
    "List_of_schools = List_of_schools[List_of_schools['Staff Link'] != -1]\n",
    "List_of_schools"
   ]
  },
  {
   "cell_type": "code",
   "execution_count": null,
   "metadata": {},
   "outputs": [],
   "source": [
    "def dade(j,named):\n",
    "    browser=webdriver.Chrome(\"chromedriver.exe\")\n",
    "    browser.get(j)\n",
    "    browser.maximize_window()\n",
    "    browser.execute_script(\"window.scrollBy(0,2000)\",\"\")\n",
    "    try:\n",
    "        browser.find_element_by_xpath('//div[contains( text( ), \"Staff\")]').click()\n",
    "    except:\n",
    "        return\n",
    "    staff_box=browser.find_element_by_id('staff')\n",
    "    rows=staff_box.find_elements_by_tag_name('p')\n",
    "    name=[]\n",
    "    email=[]\n",
    "    for aa in rows:\n",
    "        name.append(aa.text.split(',')[1]+' '+aa.text.split(',')[0])\n",
    "        email.append(aa.find_element_by_tag_name('a').get_attribute('href').split(\":\")[1])\n",
    "    db= pd.DataFrame(columns =['Name' , 'Email'])\n",
    "    db['Name']=name\n",
    "    db['Email']=email\n",
    "    namei=named+'.csv'\n",
    "    print(namei)\n",
    "    db.to_csv(namei)\n",
    "    f = open(named+'.html','w')\n",
    "    a = db.to_html()\n",
    "    f.write(a)\n",
    "    f.close()\n",
    "    browser.close()"
   ]
  },
  {
   "cell_type": "code",
   "execution_count": null,
   "metadata": {},
   "outputs": [],
   "source": [
    "i=0\n",
    "for j in List_of_schools['Staff Link']:\n",
    "    if('dade' in j):\n",
    "        i=i+1\n",
    "        print(List_of_schools.loc[List_of_schools['Staff Link']==j,'Name'].iloc[0])\n",
    "        dade(j,str(List_of_schools.loc[List_of_schools['Staff Link']==j,'Name'].iloc[0]))\n",
    "        print(i)"
   ]
  },
  {
   "cell_type": "code",
   "execution_count": null,
   "metadata": {},
   "outputs": [],
   "source": [
    "List_of_schools.to_csv('Miami-Dade County Public Schools.csv')\n",
    "f = open('Miami-Dade County Public Schools.html','w')\n",
    "a = List_of_schools.to_html()\n",
    "f.write(a)\n",
    "f.close()"
   ]
  },
  {
   "cell_type": "code",
   "execution_count": null,
   "metadata": {},
   "outputs": [],
   "source": []
  }
 ],
 "metadata": {
  "kernelspec": {
   "display_name": "Python 3",
   "language": "python",
   "name": "python3"
  },
  "language_info": {
   "codemirror_mode": {
    "name": "ipython",
    "version": 3
   },
   "file_extension": ".py",
   "mimetype": "text/x-python",
   "name": "python",
   "nbconvert_exporter": "python",
   "pygments_lexer": "ipython3",
   "version": "3.7.6"
  }
 },
 "nbformat": 4,
 "nbformat_minor": 4
}
